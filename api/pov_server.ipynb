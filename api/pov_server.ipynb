{
 "cells": [
  {
   "cell_type": "code",
   "execution_count": null,
   "metadata": {},
   "outputs": [
    {
     "name": "stdout",
     "output_type": "stream",
     "text": [
      "Requirement already satisfied: flask_cors in /Users/leejaeuk/anaconda3/lib/python3.11/site-packages (4.0.1)\n",
      "Requirement already satisfied: Flask>=0.9 in /Users/leejaeuk/anaconda3/lib/python3.11/site-packages (from flask_cors) (2.2.2)\n",
      "Requirement already satisfied: Werkzeug>=2.2.2 in /Users/leejaeuk/anaconda3/lib/python3.11/site-packages (from Flask>=0.9->flask_cors) (2.2.3)\n",
      "Requirement already satisfied: Jinja2>=3.0 in /Users/leejaeuk/anaconda3/lib/python3.11/site-packages (from Flask>=0.9->flask_cors) (3.1.2)\n",
      "Requirement already satisfied: itsdangerous>=2.0 in /Users/leejaeuk/anaconda3/lib/python3.11/site-packages (from Flask>=0.9->flask_cors) (2.0.1)\n",
      "Requirement already satisfied: click>=8.0 in /Users/leejaeuk/anaconda3/lib/python3.11/site-packages (from Flask>=0.9->flask_cors) (8.0.4)\n",
      "Requirement already satisfied: MarkupSafe>=2.0 in /Users/leejaeuk/anaconda3/lib/python3.11/site-packages (from Jinja2>=3.0->Flask>=0.9->flask_cors) (2.1.1)\n",
      "Note: you may need to restart the kernel to use updated packages.\n"
     ]
    }
   ],
   "source": [
    "%pip install flask_cors"
   ]
  },
  {
   "cell_type": "code",
   "execution_count": 6,
   "metadata": {},
   "outputs": [
    {
     "name": "stdout",
     "output_type": "stream",
     "text": [
      " * Serving Flask app '__main__'\n",
      " * Debug mode: off\n"
     ]
    },
    {
     "name": "stderr",
     "output_type": "stream",
     "text": [
      "INFO:werkzeug:\u001b[31m\u001b[1mWARNING: This is a development server. Do not use it in a production deployment. Use a production WSGI server instead.\u001b[0m\n",
      " * Running on http://127.0.0.1:5002\n",
      "INFO:werkzeug:\u001b[33mPress CTRL+C to quit\u001b[0m\n"
     ]
    }
   ],
   "source": [
    "import pandas as pd\n",
    "import numpy as np\n",
    "\n",
    "from flask import Flask, request, jsonify\n",
    "from flask_cors import CORS\n",
    "\n",
    "import json\n",
    "import logging\n",
    "\n",
    "app = Flask(__name__)\n",
    "CORS(app)\n",
    "logging.basicConfig(level=logging.DEBUG)\n",
    "\n",
    "valData = pd.read_csv('./valData.csv').drop(columns=['Unnamed: 0'])\n",
    "\n",
    "def weightScore(chainScore, weight):\n",
    "    chainScore['contribution_score'] = chainScore['contribution_score'] * weight[0] / sum(weight)\n",
    "    chainScore['stability_score'] = chainScore['stability_score'] * weight[1] / sum(weight)\n",
    "    chainScore['popularity_score'] = chainScore['popularity_score'] * weight[2] / sum(weight)\n",
    "    chainScore['commission_score'] = chainScore['commission_score'] * weight[3] / sum(weight)\n",
    "    chainScore['period_score'] = chainScore['period_score'] * weight[4] / sum(weight)\n",
    "    chainScore['total_score'] = chainScore['contribution_score'] + chainScore['stability_score'] + chainScore['popularity_score'] + chainScore['commission_score'] + chainScore['period_score']\n",
    "    return chainScore\n",
    "\n",
    "@app.route('/')\n",
    "def home():\n",
    "    return jsonify(message=\"Hello from Flask\")\n",
    "\n",
    "@app.route('/getScore', methods=['POST'])\n",
    "def getScore():\n",
    "    try:\n",
    "        data = request.get_json()\n",
    "\n",
    "        chain = data['chain']\n",
    "        weight = data['weight']\n",
    "\n",
    "        chainData = valData[valData['chain']==chain]\n",
    "        chainScore = chainData[['voter', 'contribution_score', 'stability_score', 'popularity_score', 'commission_score', 'period_score']]\n",
    "        chainScore = weightScore(chainScore, weight).sort_values(by='total_score', ascending=False)\n",
    "\n",
    "        json_str = chainScore.to_json(orient='records')\n",
    "\n",
    "        return json_str, 200\n",
    "\n",
    "    except Exception as e:\n",
    "        print(f\"An error occurred: {e}\")\n",
    "        return jsonify({\"error\": \"Internal Server Error\"}), 500\n",
    "\n",
    "@app.route('/getValidator', methods=['POST'])\n",
    "def getValidator():\n",
    "    try:\n",
    "        data = request.get_json()\n",
    "\n",
    "        voter = data['voter']\n",
    "        weight = data['weight']\n",
    "\n",
    "        \n",
    "        validator = valData[valData['voter']==voter]\n",
    "        validator = weightScore(validator, weight).sort_values(by='total_score', ascending=False)\n",
    "\n",
    "        asset_total = validator['asset_value'].sum()\n",
    "        validator['asset_ratio'] = validator['asset_value'] / asset_total\n",
    "        validator['weight_score'] = validator['total_score'] * validator['asset_ratio']\n",
    "\n",
    "        validator = validator[['chain', 'contribution_score', 'stability_score', 'popularity_score', 'commission_score', 'period_score', 'total_score', \n",
    "                                'asset_value', 'asset_ratio', 'weight_score', 'rank', 'missblock', 'p_participation', 'p_passed', 'p_matchproposal', 'jailed_ratio']]\n",
    "\n",
    "        json_str = validator.to_json(orient='records')\n",
    "\n",
    "        return json_str, 200\n",
    "\n",
    "    except Exception as e:\n",
    "        print(f\"An error occurred: {e}\")\n",
    "        return jsonify({\"error\": \"Internal Server Error\"}), 500\n",
    "\n",
    "\n",
    "if __name__ == '__main__':\n",
    "    app.run(port=5002)"
   ]
  },
  {
   "cell_type": "code",
   "execution_count": null,
   "metadata": {},
   "outputs": [],
   "source": []
  }
 ],
 "metadata": {
  "kernelspec": {
   "display_name": "base",
   "language": "python",
   "name": "python3"
  },
  "language_info": {
   "codemirror_mode": {
    "name": "ipython",
    "version": 3
   },
   "file_extension": ".py",
   "mimetype": "text/x-python",
   "name": "python",
   "nbconvert_exporter": "python",
   "pygments_lexer": "ipython3",
   "version": "3.11.5"
  },
  "orig_nbformat": 4
 },
 "nbformat": 4,
 "nbformat_minor": 2
}
